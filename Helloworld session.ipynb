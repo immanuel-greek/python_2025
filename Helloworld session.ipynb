{
  "nbformat": 4,
  "nbformat_minor": 0,
  "metadata": {
    "colab": {
      "provenance": [],
      "authorship_tag": "ABX9TyMyNhOmrXaFD0NxIrMX7yl9",
      "include_colab_link": true
    },
    "kernelspec": {
      "name": "python3",
      "display_name": "Python 3"
    },
    "language_info": {
      "name": "python"
    }
  },
  "cells": [
    {
      "cell_type": "markdown",
      "metadata": {
        "id": "view-in-github",
        "colab_type": "text"
      },
      "source": [
        "<a href=\"https://colab.research.google.com/github/immanuel-greek/python_2025/blob/main/Helloworld%20session.ipynb\" target=\"_parent\"><img src=\"https://colab.research.google.com/assets/colab-badge.svg\" alt=\"Open In Colab\"/></a>"
      ]
    },
    {
      "cell_type": "code",
      "execution_count": null,
      "metadata": {
        "id": "nG46FiGmmPPM"
      },
      "outputs": [],
      "source": [
        "# this is hello wolrd"
      ]
    },
    {
      "cell_type": "code",
      "source": [
        "print( \"hello word \")"
      ],
      "metadata": {
        "colab": {
          "base_uri": "https://localhost:8080/"
        },
        "id": "Qdrd7t74mlSV",
        "outputId": "92ab7356-4113-40a0-dc8c-0674a5773525"
      },
      "execution_count": 1,
      "outputs": [
        {
          "output_type": "stream",
          "name": "stdout",
          "text": [
            "hello word \n"
          ]
        }
      ]
    },
    {
      "cell_type": "code",
      "source": [
        "x = 12\n",
        "y = \"Immanuel\"\n",
        "print(type(y),type(x))"
      ],
      "metadata": {
        "colab": {
          "base_uri": "https://localhost:8080/"
        },
        "id": "n3sq5Yuzm_Mu",
        "outputId": "fd7e552e-369a-409d-9e76-38ed303aeaeb"
      },
      "execution_count": 8,
      "outputs": [
        {
          "output_type": "stream",
          "name": "stdout",
          "text": [
            "<class 'str'> <class 'int'>\n"
          ]
        }
      ]
    },
    {
      "cell_type": "code",
      "source": [
        "x = \"python\"\n",
        "y = \"is\"\n",
        "z = \"Awesome\"\n",
        "print(x+y+z)"
      ],
      "metadata": {
        "colab": {
          "base_uri": "https://localhost:8080/"
        },
        "id": "LHehj3uKpOmw",
        "outputId": "c8f2edb1-61c2-4eda-c2b4-1b15954e4565"
      },
      "execution_count": 9,
      "outputs": [
        {
          "output_type": "stream",
          "name": "stdout",
          "text": [
            "pythonisAwesome\n"
          ]
        }
      ]
    },
    {
      "cell_type": "code",
      "source": [
        "x = 10\n",
        "y = 2\n",
        "print (x//y)\n",
        "print(x/y)"
      ],
      "metadata": {
        "colab": {
          "base_uri": "https://localhost:8080/"
        },
        "id": "a8OEVYKBrRZo",
        "outputId": "125c51ea-1f24-4f78-c680-4953cc7dfc64"
      },
      "execution_count": 11,
      "outputs": [
        {
          "output_type": "stream",
          "name": "stdout",
          "text": [
            "5\n",
            "5.0\n"
          ]
        }
      ]
    },
    {
      "cell_type": "code",
      "source": [
        "x= 6\n",
        "y = 2\n",
        "\n",
        "x+=2\n",
        "y**=2\n",
        "print(y>6)"
      ],
      "metadata": {
        "colab": {
          "base_uri": "https://localhost:8080/"
        },
        "id": "f8whjWIHr_fg",
        "outputId": "a36b06a4-720c-41c3-fce3-dcad7375a785"
      },
      "execution_count": 15,
      "outputs": [
        {
          "output_type": "stream",
          "name": "stdout",
          "text": [
            "False\n"
          ]
        }
      ]
    }
  ]
}